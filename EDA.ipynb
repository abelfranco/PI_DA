{
 "cells": [
  {
   "cell_type": "markdown",
   "metadata": {},
   "source": [
    "# Análisis Exploratorio de Datos (EDA)\n",
    "---"
   ]
  },
  {
   "cell_type": "markdown",
   "metadata": {},
   "source": [
    "### Contenido:\n",
    "1. Objetivos \n",
    "2. Análsis de Datos de Internet Fijo\n",
    "\n",
    "    2.1 Estadística descriptiva\n",
    "    \n",
    "    2.2 Visualización de datos\n",
    "    \n",
    "    2.3 Conclusiones\n",
    "3. Análisis de Datos de Internet Móvil\n",
    "\n",
    "    3.1 Estadística descriptiva\n",
    "    \n",
    "    3.2 Visualiación de datos\n",
    "    \n",
    "    3.3 Conclusiones\n",
    "4. Análisis de Datos de Reclamos \n",
    "\n",
    "    \n",
    "    4.1 Estadística descriptiva\n",
    "    \n",
    "    4.2 Visualiación de datos\n",
    "    \n",
    "    4.3 Conclusiones\n",
    "\n",
    "---"
   ]
  },
  {
   "cell_type": "markdown",
   "metadata": {},
   "source": [
    "### 1. Objetivos\n",
    "1.1 Análizar visualmente el comportamiento y tendencia de las variables\n",
    "\n",
    "1.2 Determinar las variables reelevantes que puedan resultar en un caso de estudio\n"
   ]
  },
  {
   "cell_type": "code",
   "execution_count": 25,
   "metadata": {},
   "outputs": [],
   "source": [
    "# Importamos las librerías a usar\n",
    "import pandas as pd\n",
    "import numpy as np\n",
    "import matplotlib.pyplot as plt"
   ]
  },
  {
   "cell_type": "markdown",
   "metadata": {},
   "source": [
    "# ______________________________________________________________________________________"
   ]
  },
  {
   "cell_type": "markdown",
   "metadata": {},
   "source": [
    "### 2. Análisis de Datos de Internet Fijo"
   ]
  },
  {
   "cell_type": "markdown",
   "metadata": {},
   "source": [
    "### 2.1 Estadística descriptiva"
   ]
  },
  {
   "cell_type": "code",
   "execution_count": 28,
   "metadata": {},
   "outputs": [],
   "source": [
    "internet_fijo = pd.read_csv('Data_set/Data_internet_fijo/Data_clean/inter_nac_fijo_clean.csv')"
   ]
  },
  {
   "cell_type": "code",
   "execution_count": 29,
   "metadata": {},
   "outputs": [
    {
     "data": {
      "text/html": [
       "<div>\n",
       "<style scoped>\n",
       "    .dataframe tbody tr th:only-of-type {\n",
       "        vertical-align: middle;\n",
       "    }\n",
       "\n",
       "    .dataframe tbody tr th {\n",
       "        vertical-align: top;\n",
       "    }\n",
       "\n",
       "    .dataframe thead th {\n",
       "        text-align: right;\n",
       "    }\n",
       "</style>\n",
       "<table border=\"1\" class=\"dataframe\">\n",
       "  <thead>\n",
       "    <tr style=\"text-align: right;\">\n",
       "      <th></th>\n",
       "      <th>Año</th>\n",
       "      <th>Trimestre</th>\n",
       "      <th>Accesos por cada 100 hogares</th>\n",
       "      <th>Accesos por cada 100 hab</th>\n",
       "    </tr>\n",
       "  </thead>\n",
       "  <tbody>\n",
       "    <tr>\n",
       "      <th>count</th>\n",
       "      <td>35.000000</td>\n",
       "      <td>35.000000</td>\n",
       "      <td>35.000000</td>\n",
       "      <td>35.000000</td>\n",
       "    </tr>\n",
       "    <tr>\n",
       "      <th>mean</th>\n",
       "      <td>2017.885714</td>\n",
       "      <td>2.457143</td>\n",
       "      <td>60.275429</td>\n",
       "      <td>18.606286</td>\n",
       "    </tr>\n",
       "    <tr>\n",
       "      <th>std</th>\n",
       "      <td>2.564135</td>\n",
       "      <td>1.120474</td>\n",
       "      <td>8.148909</td>\n",
       "      <td>2.662968</td>\n",
       "    </tr>\n",
       "    <tr>\n",
       "      <th>min</th>\n",
       "      <td>2014.000000</td>\n",
       "      <td>1.000000</td>\n",
       "      <td>49.550000</td>\n",
       "      <td>15.050000</td>\n",
       "    </tr>\n",
       "    <tr>\n",
       "      <th>25%</th>\n",
       "      <td>2016.000000</td>\n",
       "      <td>1.500000</td>\n",
       "      <td>52.985000</td>\n",
       "      <td>16.245000</td>\n",
       "    </tr>\n",
       "    <tr>\n",
       "      <th>50%</th>\n",
       "      <td>2018.000000</td>\n",
       "      <td>2.000000</td>\n",
       "      <td>59.160000</td>\n",
       "      <td>18.240000</td>\n",
       "    </tr>\n",
       "    <tr>\n",
       "      <th>75%</th>\n",
       "      <td>2020.000000</td>\n",
       "      <td>3.000000</td>\n",
       "      <td>66.050000</td>\n",
       "      <td>20.475000</td>\n",
       "    </tr>\n",
       "    <tr>\n",
       "      <th>max</th>\n",
       "      <td>2022.000000</td>\n",
       "      <td>4.000000</td>\n",
       "      <td>76.640000</td>\n",
       "      <td>23.950000</td>\n",
       "    </tr>\n",
       "  </tbody>\n",
       "</table>\n",
       "</div>"
      ],
      "text/plain": [
       "               Año  Trimestre  Accesos por cada 100 hogares  \\\n",
       "count    35.000000  35.000000                     35.000000   \n",
       "mean   2017.885714   2.457143                     60.275429   \n",
       "std       2.564135   1.120474                      8.148909   \n",
       "min    2014.000000   1.000000                     49.550000   \n",
       "25%    2016.000000   1.500000                     52.985000   \n",
       "50%    2018.000000   2.000000                     59.160000   \n",
       "75%    2020.000000   3.000000                     66.050000   \n",
       "max    2022.000000   4.000000                     76.640000   \n",
       "\n",
       "       Accesos por cada 100 hab  \n",
       "count                 35.000000  \n",
       "mean                  18.606286  \n",
       "std                    2.662968  \n",
       "min                   15.050000  \n",
       "25%                   16.245000  \n",
       "50%                   18.240000  \n",
       "75%                   20.475000  \n",
       "max                   23.950000  "
      ]
     },
     "execution_count": 29,
     "metadata": {},
     "output_type": "execute_result"
    }
   ],
   "source": [
    "# Medidas de Tendencia central de variables numéricas\n",
    "internet_fijo.describe(include=[np.number])"
   ]
  },
  {
   "cell_type": "markdown",
   "metadata": {},
   "source": [
    "_- En promedio hay un acceso de internet de 60 accesos durante los años 2014 al 2022_\n",
    "\n",
    "_- En promedio de cada 100 habitantes solo tienen acceso a internet 18 personas durante los años 2014 al 2022_"
   ]
  },
  {
   "cell_type": "markdown",
   "metadata": {},
   "source": [
    "Ingresos anuales por el servicio de internet fijo"
   ]
  },
  {
   "cell_type": "code",
   "execution_count": 32,
   "metadata": {},
   "outputs": [],
   "source": [
    "ingresos = pd.read_csv('Data_set/Data_internet_fijo/Data_clean/13_Internet_Ingresos.csv')"
   ]
  },
  {
   "cell_type": "code",
   "execution_count": 33,
   "metadata": {},
   "outputs": [
    {
     "data": {
      "text/html": [
       "<div>\n",
       "<style scoped>\n",
       "    .dataframe tbody tr th:only-of-type {\n",
       "        vertical-align: middle;\n",
       "    }\n",
       "\n",
       "    .dataframe tbody tr th {\n",
       "        vertical-align: top;\n",
       "    }\n",
       "\n",
       "    .dataframe thead th {\n",
       "        text-align: right;\n",
       "    }\n",
       "</style>\n",
       "<table border=\"1\" class=\"dataframe\">\n",
       "  <thead>\n",
       "    <tr style=\"text-align: right;\">\n",
       "      <th></th>\n",
       "      <th>Anio</th>\n",
       "      <th>Trimestre</th>\n",
       "      <th>Ingresos (miles de pesos)</th>\n",
       "    </tr>\n",
       "  </thead>\n",
       "  <tbody>\n",
       "    <tr>\n",
       "      <th>count</th>\n",
       "      <td>35.000000</td>\n",
       "      <td>35.000000</td>\n",
       "      <td>3.500000e+01</td>\n",
       "    </tr>\n",
       "    <tr>\n",
       "      <th>mean</th>\n",
       "      <td>2017.885714</td>\n",
       "      <td>2.457143</td>\n",
       "      <td>2.058845e+07</td>\n",
       "    </tr>\n",
       "    <tr>\n",
       "      <th>std</th>\n",
       "      <td>2.564135</td>\n",
       "      <td>1.120474</td>\n",
       "      <td>1.774214e+07</td>\n",
       "    </tr>\n",
       "    <tr>\n",
       "      <th>min</th>\n",
       "      <td>2014.000000</td>\n",
       "      <td>1.000000</td>\n",
       "      <td>2.984054e+06</td>\n",
       "    </tr>\n",
       "    <tr>\n",
       "      <th>25%</th>\n",
       "      <td>2016.000000</td>\n",
       "      <td>1.500000</td>\n",
       "      <td>6.235543e+06</td>\n",
       "    </tr>\n",
       "    <tr>\n",
       "      <th>50%</th>\n",
       "      <td>2018.000000</td>\n",
       "      <td>2.000000</td>\n",
       "      <td>1.431947e+07</td>\n",
       "    </tr>\n",
       "    <tr>\n",
       "      <th>75%</th>\n",
       "      <td>2020.000000</td>\n",
       "      <td>3.000000</td>\n",
       "      <td>3.204996e+07</td>\n",
       "    </tr>\n",
       "    <tr>\n",
       "      <th>max</th>\n",
       "      <td>2022.000000</td>\n",
       "      <td>4.000000</td>\n",
       "      <td>6.705593e+07</td>\n",
       "    </tr>\n",
       "  </tbody>\n",
       "</table>\n",
       "</div>"
      ],
      "text/plain": [
       "              Anio  Trimestre  Ingresos (miles de pesos)\n",
       "count    35.000000  35.000000               3.500000e+01\n",
       "mean   2017.885714   2.457143               2.058845e+07\n",
       "std       2.564135   1.120474               1.774214e+07\n",
       "min    2014.000000   1.000000               2.984054e+06\n",
       "25%    2016.000000   1.500000               6.235543e+06\n",
       "50%    2018.000000   2.000000               1.431947e+07\n",
       "75%    2020.000000   3.000000               3.204996e+07\n",
       "max    2022.000000   4.000000               6.705593e+07"
      ]
     },
     "execution_count": 33,
     "metadata": {},
     "output_type": "execute_result"
    }
   ],
   "source": [
    "# Medidas de Tendencia central de variables numéricas\n",
    "ingresos.describe(include=[np.number])"
   ]
  },
  {
   "cell_type": "markdown",
   "metadata": {},
   "source": [
    "_- En promedio hay 20 588 450 000 pesos entre los años 2014 y 2022_"
   ]
  },
  {
   "cell_type": "markdown",
   "metadata": {},
   "source": [
    "Alcance del servicio de Internet fijo en relación con el número total de hogares en Argentina"
   ]
  },
  {
   "cell_type": "code",
   "execution_count": 21,
   "metadata": {},
   "outputs": [
    {
     "data": {
      "text/html": [
       "<div>\n",
       "<style scoped>\n",
       "    .dataframe tbody tr th:only-of-type {\n",
       "        vertical-align: middle;\n",
       "    }\n",
       "\n",
       "    .dataframe tbody tr th {\n",
       "        vertical-align: top;\n",
       "    }\n",
       "\n",
       "    .dataframe thead th {\n",
       "        text-align: right;\n",
       "    }\n",
       "</style>\n",
       "<table border=\"1\" class=\"dataframe\">\n",
       "  <thead>\n",
       "    <tr style=\"text-align: right;\">\n",
       "      <th></th>\n",
       "      <th>Año</th>\n",
       "      <th>Trimestre</th>\n",
       "      <th>Accesos por cada 100 hogares</th>\n",
       "      <th>Accesos por cada 100 hab</th>\n",
       "      <th>Periodo</th>\n",
       "    </tr>\n",
       "  </thead>\n",
       "  <tbody>\n",
       "    <tr>\n",
       "      <th>0</th>\n",
       "      <td>2022</td>\n",
       "      <td>3</td>\n",
       "      <td>76.64</td>\n",
       "      <td>23.95</td>\n",
       "      <td>Jul-Sept 2022</td>\n",
       "    </tr>\n",
       "    <tr>\n",
       "      <th>1</th>\n",
       "      <td>2022</td>\n",
       "      <td>2</td>\n",
       "      <td>75.97</td>\n",
       "      <td>23.72</td>\n",
       "      <td>Abr-Jun 2022</td>\n",
       "    </tr>\n",
       "    <tr>\n",
       "      <th>2</th>\n",
       "      <td>2022</td>\n",
       "      <td>1</td>\n",
       "      <td>73.88</td>\n",
       "      <td>23.05</td>\n",
       "      <td>Ene-Mar 2022</td>\n",
       "    </tr>\n",
       "  </tbody>\n",
       "</table>\n",
       "</div>"
      ],
      "text/plain": [
       "    Año  Trimestre  Accesos por cada 100 hogares  Accesos por cada 100 hab  \\\n",
       "0  2022          3                         76.64                     23.95   \n",
       "1  2022          2                         75.97                     23.72   \n",
       "2  2022          1                         73.88                     23.05   \n",
       "\n",
       "         Periodo  \n",
       "0  Jul-Sept 2022  \n",
       "1   Abr-Jun 2022  \n",
       "2   Ene-Mar 2022  "
      ]
     },
     "execution_count": 21,
     "metadata": {},
     "output_type": "execute_result"
    }
   ],
   "source": [
    "internet_fijo.head(3) # Miramos las primeras 3 líneas"
   ]
  },
  {
   "cell_type": "code",
   "execution_count": 38,
   "metadata": {},
   "outputs": [],
   "source": [
    "# Convertimos las variables 'Año', 'Trimestre' y 'Periodo' a Category\n",
    "internet_fijo['Año'] = internet_fijo['Año'].astype('category')\n",
    "internet_fijo['Trimestre'] = internet_fijo['Trimestre'].astype('category')\n",
    "internet_fijo['Periodo'] = internet_fijo['Periodo'].astype('category')"
   ]
  },
  {
   "cell_type": "code",
   "execution_count": 42,
   "metadata": {},
   "outputs": [],
   "source": [
    "# Convertimos las variables 'Año', 'Trimestre' y 'Periodo' a Category\n",
    "internet_fijo['Año'] = ingresos['Anio'].astype('category')\n",
    "internet_fijo['Trimestre'] = ingresos['Trimestre'].astype('category')\n",
    "internet_fijo['Periodo'] = ingresos['Periodo'].astype('category')"
   ]
  },
  {
   "cell_type": "markdown",
   "metadata": {},
   "source": [
    "### 2.2 Visualización de datos"
   ]
  },
  {
   "cell_type": "markdown",
   "metadata": {},
   "source": [
    "Crecimiento en porcentaje de los ingresos"
   ]
  },
  {
   "cell_type": "code",
   "execution_count": 44,
   "metadata": {},
   "outputs": [
    {
     "data": {
      "image/png": "[encoded data removed]",
      "text/plain": [
       "<Figure size 640x480 with 1 Axes>"
      ]
     },
     "metadata": {},
     "output_type": "display_data"
    }
   ],
   "source": [
    "plt.rcParams['axes.facecolor'] = '#F1F0F5'\n",
    "plt.bar(ingresos['Anio'],ingresos['Ingresos (miles de pesos)'], alpha=0.3)\n",
    "plt.ylabel('Porcentajes')\n",
    "plt.title('Ingresos (miles de pesos)')\n",
    "plt.show()"
   ]
  },
  {
   "cell_type": "markdown",
   "metadata": {},
   "source": [
    "_- La tendencia del incremento de ingresos anuales son de tipo exponencial_"
   ]
  },
  {
   "cell_type": "markdown",
   "metadata": {},
   "source": [
    "Porcentaje incremento anual por cada 100 habitantes"
   ]
  },
  {
   "cell_type": "code",
   "execution_count": 12,
   "metadata": {},
   "outputs": [
    {
     "data": {
      "image/png": "[encoded data removed]",
      "text/plain": [
       "<Figure size 640x480 with 1 Axes>"
      ]
     },
     "metadata": {},
     "output_type": "display_data"
    }
   ],
   "source": [
    "plt.rcParams['axes.facecolor'] = '#F1F0F5'\n",
    "plt.bar(internet_fijo['Año'],internet_fijo['Accesos por cada 100 hogares'], alpha=0.3)\n",
    "plt.ylabel('Porcentajes')\n",
    "plt.title('Accesos por cada 100 Hogares')\n",
    "plt.show()"
   ]
  },
  {
   "cell_type": "code",
   "execution_count": 14,
   "metadata": {},
   "outputs": [
    {
     "name": "stdout",
     "output_type": "stream",
     "text": [
      "     Año  Accesos por cada 100 hogares  Crecimiento (%)\n",
      "34  2014                         49.55              NaN\n",
      "31  2014                         50.50         1.917255\n",
      "33  2014                         49.86        -1.267327\n",
      "32  2014                         50.67         1.624549\n",
      "30  2015                         51.36         1.361753\n",
      "29  2015                         51.76         0.778816\n",
      "28  2015                         52.46         1.352396\n",
      "27  2015                         52.63         0.324056\n",
      "26  2016                         51.85        -1.482044\n",
      "24  2016                         53.73         3.625844\n",
      "23  2016                         53.94         0.390843\n",
      "25  2016                         53.34        -1.112347\n",
      "22  2017                         54.16         1.537308\n",
      "21  2017                         54.90         1.366322\n",
      "20  2017                         56.90         3.642987\n",
      "19  2017                         57.78         1.546573\n",
      "18  2018                         58.82         1.799931\n",
      "17  2018                         59.16         0.578035\n",
      "15  2018                         61.42         3.820149\n",
      "16  2018                         60.69        -1.188538\n",
      "14  2019                         62.48         2.949415\n",
      "13  2019                         64.53         3.281050\n",
      "12  2019                         65.79         1.952580\n",
      "11  2019                         62.92        -4.362365\n",
      "8   2020                         66.31         5.387794\n",
      "7   2020                         67.62         1.975569\n",
      "10  2020                         62.86        -7.039337\n",
      "9   2020                         64.21         2.147630\n",
      "6   2021                         67.95         5.824638\n",
      "5   2021                         69.24         1.898455\n",
      "4   2021                         70.58         1.935298\n",
      "3   2021                         73.18         3.683763\n",
      "2   2022                         73.88         0.956546\n",
      "1   2022                         75.97         2.828912\n",
      "0   2022                         76.64         0.881927\n"
     ]
    }
   ],
   "source": [
    "# Cáculo del incremento en porcentaje por semestre\n",
    "internet_fijo = internet_fijo.sort_values(by='Año')\n",
    "internet_fijo['Crecimiento (%)'] = internet_fijo['Accesos por cada 100 hogares'].pct_change() * 100\n",
    "print(internet_fijo[['Año', 'Accesos por cada 100 hogares', 'Crecimiento (%)']])\n"
   ]
  },
  {
   "cell_type": "markdown",
   "metadata": {},
   "source": [
    "_Hay un incremento sostenido año a año, el crecimiento esa casi lineal, pero tampoco es exponencial_"
   ]
  },
  {
   "cell_type": "markdown",
   "metadata": {},
   "source": [
    "Se calcula el crecimiento anual"
   ]
  },
  {
   "cell_type": "code",
   "execution_count": 17,
   "metadata": {},
   "outputs": [
    {
     "data": {
      "text/html": [
       "<div>\n",
       "<style scoped>\n",
       "    .dataframe tbody tr th:only-of-type {\n",
       "        vertical-align: middle;\n",
       "    }\n",
       "\n",
       "    .dataframe tbody tr th {\n",
       "        vertical-align: top;\n",
       "    }\n",
       "\n",
       "    .dataframe thead th {\n",
       "        text-align: right;\n",
       "    }\n",
       "</style>\n",
       "<table border=\"1\" class=\"dataframe\">\n",
       "  <thead>\n",
       "    <tr style=\"text-align: right;\">\n",
       "      <th></th>\n",
       "      <th>Crecimiento anual %</th>\n",
       "    </tr>\n",
       "    <tr>\n",
       "      <th>Año</th>\n",
       "      <th></th>\n",
       "    </tr>\n",
       "  </thead>\n",
       "  <tbody>\n",
       "    <tr>\n",
       "      <th>2014</th>\n",
       "      <td>NaN</td>\n",
       "    </tr>\n",
       "    <tr>\n",
       "      <th>2015</th>\n",
       "      <td>3.65</td>\n",
       "    </tr>\n",
       "    <tr>\n",
       "      <th>2016</th>\n",
       "      <td>0.95</td>\n",
       "    </tr>\n",
       "    <tr>\n",
       "      <th>2017</th>\n",
       "      <td>4.46</td>\n",
       "    </tr>\n",
       "    <tr>\n",
       "      <th>2018</th>\n",
       "      <td>8.60</td>\n",
       "    </tr>\n",
       "    <tr>\n",
       "      <th>2019</th>\n",
       "      <td>6.22</td>\n",
       "    </tr>\n",
       "    <tr>\n",
       "      <th>2020</th>\n",
       "      <td>6.13</td>\n",
       "    </tr>\n",
       "    <tr>\n",
       "      <th>2021</th>\n",
       "      <td>2.47</td>\n",
       "    </tr>\n",
       "    <tr>\n",
       "      <th>2022</th>\n",
       "      <td>8.73</td>\n",
       "    </tr>\n",
       "  </tbody>\n",
       "</table>\n",
       "</div>"
      ],
      "text/plain": [
       "      Crecimiento anual %\n",
       "Año                      \n",
       "2014                  NaN\n",
       "2015                 3.65\n",
       "2016                 0.95\n",
       "2017                 4.46\n",
       "2018                 8.60\n",
       "2019                 6.22\n",
       "2020                 6.13\n",
       "2021                 2.47\n",
       "2022                 8.73"
      ]
     },
     "execution_count": 17,
     "metadata": {},
     "output_type": "execute_result"
    }
   ],
   "source": [
    "df_grouped = internet_fijo.groupby('Año').agg({'Accesos por cada 100 hogares': 'first'}).pct_change() * 100\n",
    "df_grouped = df_grouped.round(2)\n",
    "df_grouped = df_grouped.rename(columns={'Accesos por cada 100 hogares': 'Crecimiento anual %'})\n",
    "df_grouped"
   ]
  },
  {
   "cell_type": "markdown",
   "metadata": {},
   "source": [
    "Se calcula el promedio del crecimiento anual"
   ]
  },
  {
   "cell_type": "code",
   "execution_count": 15,
   "metadata": {},
   "outputs": [
    {
     "name": "stdout",
     "output_type": "stream",
     "text": [
      "5.37\n"
     ]
    }
   ],
   "source": [
    "print(df_grouped['Crecimiento anual %'].mean().round(2))"
   ]
  },
  {
   "cell_type": "markdown",
   "metadata": {},
   "source": [
    "Se calcula la variabilidad del crecimiento anual"
   ]
  },
  {
   "cell_type": "code",
   "execution_count": 18,
   "metadata": {},
   "outputs": [
    {
     "data": {
      "text/plain": [
       "2.79"
      ]
     },
     "execution_count": 18,
     "metadata": {},
     "output_type": "execute_result"
    }
   ],
   "source": [
    "desviacion_estandar = df_grouped['Crecimiento anual %'].std().round(2)\n",
    "desviacion_estandar"
   ]
  },
  {
   "cell_type": "markdown",
   "metadata": {},
   "source": [
    "### 2.3 Conclusiones\n",
    "- Hay un crecimiento sostenido de tipo lineal en el acceso de internet fijo\n",
    "- El incremento de ingresos anuales del servicio de internet tienen una tendencia creciente exponencial\n",
    "- El crecimiento anual es de 5.1 %\n",
    "- La tendencia indica que para el año 2023 seguirá creciendo en promedio un 6 %\n",
    "- Variabilidad del crecimiento: La desviación estándar del crecimiento anual de los accesos a Internet en Argentina es de aproximadamente 2.79 %"
   ]
  },
  {
   "cell_type": "markdown",
   "metadata": {},
   "source": [
    "---\n",
    "### 3. Análisis de Datos de Internet Móvil\n"
   ]
  },
  {
   "cell_type": "markdown",
   "metadata": {},
   "source": [
    "### 3.1 Estadística descriptiva"
   ]
  },
  {
   "cell_type": "code",
   "execution_count": 82,
   "metadata": {},
   "outputs": [],
   "source": [
    "opera = pd.read_csv('Data_set/Data_internet_movil/Portabilidad.csv')\n",
    "acces = pd.read_csv('Data_set/Data_internet_movil/telefonia_movil.csv')\n",
    "ingre = pd.read_csv('Data_set/Data_internet_movil/telefonia_movil_ingresos.csv')"
   ]
  },
  {
   "cell_type": "code",
   "execution_count": 91,
   "metadata": {},
   "outputs": [
    {
     "data": {
      "text/html": [
       "<div>\n",
       "<style scoped>\n",
       "    .dataframe tbody tr th:only-of-type {\n",
       "        vertical-align: middle;\n",
       "    }\n",
       "\n",
       "    .dataframe tbody tr th {\n",
       "        vertical-align: top;\n",
       "    }\n",
       "\n",
       "    .dataframe thead th {\n",
       "        text-align: right;\n",
       "    }\n",
       "</style>\n",
       "<table border=\"1\" class=\"dataframe\">\n",
       "  <thead>\n",
       "    <tr style=\"text-align: right;\">\n",
       "      <th></th>\n",
       "      <th>Año</th>\n",
       "      <th>Trimestre</th>\n",
       "      <th>Total de accesos pospago</th>\n",
       "      <th>Total de accesos prepago</th>\n",
       "      <th>Total de accesos operativos</th>\n",
       "      <th>Periodo</th>\n",
       "    </tr>\n",
       "  </thead>\n",
       "  <tbody>\n",
       "    <tr>\n",
       "      <th>0</th>\n",
       "      <td>2013</td>\n",
       "      <td>1</td>\n",
       "      <td>7761349</td>\n",
       "      <td>57147608</td>\n",
       "      <td>64908957</td>\n",
       "      <td>Ene-Mar 2013</td>\n",
       "    </tr>\n",
       "    <tr>\n",
       "      <th>1</th>\n",
       "      <td>2013</td>\n",
       "      <td>2</td>\n",
       "      <td>7769110</td>\n",
       "      <td>58004822</td>\n",
       "      <td>65773932</td>\n",
       "      <td>Abr-Jun 2013</td>\n",
       "    </tr>\n",
       "    <tr>\n",
       "      <th>2</th>\n",
       "      <td>2013</td>\n",
       "      <td>3</td>\n",
       "      <td>8002183</td>\n",
       "      <td>59048909</td>\n",
       "      <td>67051092</td>\n",
       "      <td>Jul-Sept 2013</td>\n",
       "    </tr>\n",
       "  </tbody>\n",
       "</table>\n",
       "</div>"
      ],
      "text/plain": [
       "    Año  Trimestre  Total de accesos pospago  Total de accesos prepago  \\\n",
       "0  2013          1                   7761349                  57147608   \n",
       "1  2013          2                   7769110                  58004822   \n",
       "2  2013          3                   8002183                  59048909   \n",
       "\n",
       "   Total de accesos operativos        Periodo  \n",
       "0                     64908957   Ene-Mar 2013  \n",
       "1                     65773932   Abr-Jun 2013  \n",
       "2                     67051092  Jul-Sept 2013  "
      ]
     },
     "execution_count": 91,
     "metadata": {},
     "output_type": "execute_result"
    }
   ],
   "source": [
    "acces.head(3)"
   ]
  },
  {
   "cell_type": "code",
   "execution_count": 84,
   "metadata": {},
   "outputs": [
    {
     "data": {
      "text/html": [
       "<div>\n",
       "<style scoped>\n",
       "    .dataframe tbody tr th:only-of-type {\n",
       "        vertical-align: middle;\n",
       "    }\n",
       "\n",
       "    .dataframe tbody tr th {\n",
       "        vertical-align: top;\n",
       "    }\n",
       "\n",
       "    .dataframe thead th {\n",
       "        text-align: right;\n",
       "    }\n",
       "</style>\n",
       "<table border=\"1\" class=\"dataframe\">\n",
       "  <thead>\n",
       "    <tr style=\"text-align: right;\">\n",
       "      <th></th>\n",
       "      <th>Año</th>\n",
       "      <th>Mes</th>\n",
       "      <th>Personal</th>\n",
       "      <th>Claro</th>\n",
       "      <th>Nextel</th>\n",
       "      <th>Movistar</th>\n",
       "      <th>Otros</th>\n",
       "    </tr>\n",
       "  </thead>\n",
       "  <tbody>\n",
       "    <tr>\n",
       "      <th>count</th>\n",
       "      <td>128.000000</td>\n",
       "      <td>128.00000</td>\n",
       "      <td>128.000000</td>\n",
       "      <td>128.000000</td>\n",
       "      <td>78.000000</td>\n",
       "      <td>128.000000</td>\n",
       "      <td>8.000000</td>\n",
       "    </tr>\n",
       "    <tr>\n",
       "      <th>mean</th>\n",
       "      <td>2017.000000</td>\n",
       "      <td>6.50000</td>\n",
       "      <td>48451.203125</td>\n",
       "      <td>55903.789062</td>\n",
       "      <td>126.512821</td>\n",
       "      <td>50710.351562</td>\n",
       "      <td>62.625000</td>\n",
       "    </tr>\n",
       "    <tr>\n",
       "      <th>std</th>\n",
       "      <td>3.099403</td>\n",
       "      <td>3.40449</td>\n",
       "      <td>32813.900654</td>\n",
       "      <td>33630.921754</td>\n",
       "      <td>142.875638</td>\n",
       "      <td>39642.222769</td>\n",
       "      <td>54.706849</td>\n",
       "    </tr>\n",
       "    <tr>\n",
       "      <th>min</th>\n",
       "      <td>2012.000000</td>\n",
       "      <td>1.00000</td>\n",
       "      <td>40.000000</td>\n",
       "      <td>72.000000</td>\n",
       "      <td>0.000000</td>\n",
       "      <td>41.000000</td>\n",
       "      <td>9.000000</td>\n",
       "    </tr>\n",
       "    <tr>\n",
       "      <th>25%</th>\n",
       "      <td>2014.000000</td>\n",
       "      <td>4.00000</td>\n",
       "      <td>27059.500000</td>\n",
       "      <td>32455.500000</td>\n",
       "      <td>12.250000</td>\n",
       "      <td>12531.250000</td>\n",
       "      <td>26.250000</td>\n",
       "    </tr>\n",
       "    <tr>\n",
       "      <th>50%</th>\n",
       "      <td>2017.000000</td>\n",
       "      <td>6.50000</td>\n",
       "      <td>40306.000000</td>\n",
       "      <td>51919.500000</td>\n",
       "      <td>91.500000</td>\n",
       "      <td>43400.500000</td>\n",
       "      <td>45.500000</td>\n",
       "    </tr>\n",
       "    <tr>\n",
       "      <th>75%</th>\n",
       "      <td>2020.000000</td>\n",
       "      <td>9.00000</td>\n",
       "      <td>65206.750000</td>\n",
       "      <td>76497.750000</td>\n",
       "      <td>174.250000</td>\n",
       "      <td>85553.000000</td>\n",
       "      <td>76.250000</td>\n",
       "    </tr>\n",
       "    <tr>\n",
       "      <th>max</th>\n",
       "      <td>2022.000000</td>\n",
       "      <td>12.00000</td>\n",
       "      <td>179629.000000</td>\n",
       "      <td>132676.000000</td>\n",
       "      <td>676.000000</td>\n",
       "      <td>143327.000000</td>\n",
       "      <td>153.000000</td>\n",
       "    </tr>\n",
       "  </tbody>\n",
       "</table>\n",
       "</div>"
      ],
      "text/plain": [
       "               Año        Mes       Personal          Claro      Nextel  \\\n",
       "count   128.000000  128.00000     128.000000     128.000000   78.000000   \n",
       "mean   2017.000000    6.50000   48451.203125   55903.789062  126.512821   \n",
       "std       3.099403    3.40449   32813.900654   33630.921754  142.875638   \n",
       "min    2012.000000    1.00000      40.000000      72.000000    0.000000   \n",
       "25%    2014.000000    4.00000   27059.500000   32455.500000   12.250000   \n",
       "50%    2017.000000    6.50000   40306.000000   51919.500000   91.500000   \n",
       "75%    2020.000000    9.00000   65206.750000   76497.750000  174.250000   \n",
       "max    2022.000000   12.00000  179629.000000  132676.000000  676.000000   \n",
       "\n",
       "            Movistar       Otros  \n",
       "count     128.000000    8.000000  \n",
       "mean    50710.351562   62.625000  \n",
       "std     39642.222769   54.706849  \n",
       "min        41.000000    9.000000  \n",
       "25%     12531.250000   26.250000  \n",
       "50%     43400.500000   45.500000  \n",
       "75%     85553.000000   76.250000  \n",
       "max    143327.000000  153.000000  "
      ]
     },
     "execution_count": 84,
     "metadata": {},
     "output_type": "execute_result"
    }
   ],
   "source": [
    "# Medidas de Tendencia central de variables numéricas\n",
    "\n",
    "opera.describe(include=[np.number])"
   ]
  },
  {
   "cell_type": "markdown",
   "metadata": {},
   "source": [
    "_- El incremento de los usuarios desde el 2012 hasta el 2022 es significativo_\n",
    "\n",
    "_- Hay datos nulos, aún no se puede generar una deducción más profunda_"
   ]
  },
  {
   "cell_type": "code",
   "execution_count": 87,
   "metadata": {},
   "outputs": [
    {
     "data": {
      "text/html": [
       "<div>\n",
       "<style scoped>\n",
       "    .dataframe tbody tr th:only-of-type {\n",
       "        vertical-align: middle;\n",
       "    }\n",
       "\n",
       "    .dataframe tbody tr th {\n",
       "        vertical-align: top;\n",
       "    }\n",
       "\n",
       "    .dataframe thead th {\n",
       "        text-align: right;\n",
       "    }\n",
       "</style>\n",
       "<table border=\"1\" class=\"dataframe\">\n",
       "  <thead>\n",
       "    <tr style=\"text-align: right;\">\n",
       "      <th></th>\n",
       "      <th>Año</th>\n",
       "      <th>Trimestre</th>\n",
       "      <th>Total de accesos pospago</th>\n",
       "      <th>Total de accesos prepago</th>\n",
       "      <th>Total de accesos operativos</th>\n",
       "    </tr>\n",
       "  </thead>\n",
       "  <tbody>\n",
       "    <tr>\n",
       "      <th>count</th>\n",
       "      <td>39.000000</td>\n",
       "      <td>39.000000</td>\n",
       "      <td>3.900000e+01</td>\n",
       "      <td>3.900000e+01</td>\n",
       "      <td>3.900000e+01</td>\n",
       "    </tr>\n",
       "    <tr>\n",
       "      <th>mean</th>\n",
       "      <td>2017.384615</td>\n",
       "      <td>2.461538</td>\n",
       "      <td>6.958380e+06</td>\n",
       "      <td>5.329919e+07</td>\n",
       "      <td>6.025759e+07</td>\n",
       "    </tr>\n",
       "    <tr>\n",
       "      <th>std</th>\n",
       "      <td>2.852657</td>\n",
       "      <td>1.120295</td>\n",
       "      <td>8.933039e+05</td>\n",
       "      <td>2.531044e+06</td>\n",
       "      <td>3.280048e+06</td>\n",
       "    </tr>\n",
       "    <tr>\n",
       "      <th>min</th>\n",
       "      <td>2013.000000</td>\n",
       "      <td>1.000000</td>\n",
       "      <td>5.556299e+06</td>\n",
       "      <td>4.906016e+07</td>\n",
       "      <td>5.461989e+07</td>\n",
       "    </tr>\n",
       "    <tr>\n",
       "      <th>25%</th>\n",
       "      <td>2015.000000</td>\n",
       "      <td>1.500000</td>\n",
       "      <td>6.144759e+06</td>\n",
       "      <td>5.183424e+07</td>\n",
       "      <td>5.820528e+07</td>\n",
       "    </tr>\n",
       "    <tr>\n",
       "      <th>50%</th>\n",
       "      <td>2017.000000</td>\n",
       "      <td>2.000000</td>\n",
       "      <td>7.108228e+06</td>\n",
       "      <td>5.310204e+07</td>\n",
       "      <td>6.022186e+07</td>\n",
       "    </tr>\n",
       "    <tr>\n",
       "      <th>75%</th>\n",
       "      <td>2020.000000</td>\n",
       "      <td>3.000000</td>\n",
       "      <td>7.635581e+06</td>\n",
       "      <td>5.475712e+07</td>\n",
       "      <td>6.217666e+07</td>\n",
       "    </tr>\n",
       "    <tr>\n",
       "      <th>max</th>\n",
       "      <td>2022.000000</td>\n",
       "      <td>4.000000</td>\n",
       "      <td>8.674516e+06</td>\n",
       "      <td>5.904891e+07</td>\n",
       "      <td>6.756903e+07</td>\n",
       "    </tr>\n",
       "  </tbody>\n",
       "</table>\n",
       "</div>"
      ],
      "text/plain": [
       "               Año  Trimestre  Total de accesos pospago  \\\n",
       "count    39.000000  39.000000              3.900000e+01   \n",
       "mean   2017.384615   2.461538              6.958380e+06   \n",
       "std       2.852657   1.120295              8.933039e+05   \n",
       "min    2013.000000   1.000000              5.556299e+06   \n",
       "25%    2015.000000   1.500000              6.144759e+06   \n",
       "50%    2017.000000   2.000000              7.108228e+06   \n",
       "75%    2020.000000   3.000000              7.635581e+06   \n",
       "max    2022.000000   4.000000              8.674516e+06   \n",
       "\n",
       "       Total de accesos prepago  Total de accesos operativos  \n",
       "count              3.900000e+01                 3.900000e+01  \n",
       "mean               5.329919e+07                 6.025759e+07  \n",
       "std                2.531044e+06                 3.280048e+06  \n",
       "min                4.906016e+07                 5.461989e+07  \n",
       "25%                5.183424e+07                 5.820528e+07  \n",
       "50%                5.310204e+07                 6.022186e+07  \n",
       "75%                5.475712e+07                 6.217666e+07  \n",
       "max                5.904891e+07                 6.756903e+07  "
      ]
     },
     "execution_count": 87,
     "metadata": {},
     "output_type": "execute_result"
    }
   ],
   "source": [
    "acces.describe(include=[np.number])"
   ]
  },
  {
   "cell_type": "markdown",
   "metadata": {},
   "source": [
    "_- La cantidad de accesos anuales en promedio es de 60 257 590_\n",
    "\n",
    "_- Desde el año 2013 hasta el 2022 se ha duplicado el acceso anual de internet movil_\n",
    "\n",
    "_- La comparativa de accesos entre internet fijo y movil, podrían ser reveleadores para una caso de estudio_"
   ]
  },
  {
   "cell_type": "code",
   "execution_count": 89,
   "metadata": {},
   "outputs": [
    {
     "data": {
      "text/html": [
       "<div>\n",
       "<style scoped>\n",
       "    .dataframe tbody tr th:only-of-type {\n",
       "        vertical-align: middle;\n",
       "    }\n",
       "\n",
       "    .dataframe tbody tr th {\n",
       "        vertical-align: top;\n",
       "    }\n",
       "\n",
       "    .dataframe thead th {\n",
       "        text-align: right;\n",
       "    }\n",
       "</style>\n",
       "<table border=\"1\" class=\"dataframe\">\n",
       "  <thead>\n",
       "    <tr style=\"text-align: right;\">\n",
       "      <th></th>\n",
       "      <th>Año</th>\n",
       "      <th>Trimestre</th>\n",
       "      <th>Ingresos (miles de $)</th>\n",
       "    </tr>\n",
       "  </thead>\n",
       "  <tbody>\n",
       "    <tr>\n",
       "      <th>count</th>\n",
       "      <td>39.000000</td>\n",
       "      <td>39.000000</td>\n",
       "      <td>3.900000e+01</td>\n",
       "    </tr>\n",
       "    <tr>\n",
       "      <th>mean</th>\n",
       "      <td>2017.384615</td>\n",
       "      <td>2.461538</td>\n",
       "      <td>5.310811e+07</td>\n",
       "    </tr>\n",
       "    <tr>\n",
       "      <th>std</th>\n",
       "      <td>2.852657</td>\n",
       "      <td>1.120295</td>\n",
       "      <td>4.190357e+07</td>\n",
       "    </tr>\n",
       "    <tr>\n",
       "      <th>min</th>\n",
       "      <td>2013.000000</td>\n",
       "      <td>1.000000</td>\n",
       "      <td>1.313524e+07</td>\n",
       "    </tr>\n",
       "    <tr>\n",
       "      <th>25%</th>\n",
       "      <td>2015.000000</td>\n",
       "      <td>1.500000</td>\n",
       "      <td>2.089878e+07</td>\n",
       "    </tr>\n",
       "    <tr>\n",
       "      <th>50%</th>\n",
       "      <td>2017.000000</td>\n",
       "      <td>2.000000</td>\n",
       "      <td>3.811003e+07</td>\n",
       "    </tr>\n",
       "    <tr>\n",
       "      <th>75%</th>\n",
       "      <td>2020.000000</td>\n",
       "      <td>3.000000</td>\n",
       "      <td>7.280805e+07</td>\n",
       "    </tr>\n",
       "    <tr>\n",
       "      <th>max</th>\n",
       "      <td>2022.000000</td>\n",
       "      <td>4.000000</td>\n",
       "      <td>1.740578e+08</td>\n",
       "    </tr>\n",
       "  </tbody>\n",
       "</table>\n",
       "</div>"
      ],
      "text/plain": [
       "               Año  Trimestre  Ingresos (miles de $)\n",
       "count    39.000000  39.000000           3.900000e+01\n",
       "mean   2017.384615   2.461538           5.310811e+07\n",
       "std       2.852657   1.120295           4.190357e+07\n",
       "min    2013.000000   1.000000           1.313524e+07\n",
       "25%    2015.000000   1.500000           2.089878e+07\n",
       "50%    2017.000000   2.000000           3.811003e+07\n",
       "75%    2020.000000   3.000000           7.280805e+07\n",
       "max    2022.000000   4.000000           1.740578e+08"
      ]
     },
     "execution_count": 89,
     "metadata": {},
     "output_type": "execute_result"
    }
   ],
   "source": [
    "ingre.describe(include=[np.number])"
   ]
  },
  {
   "cell_type": "markdown",
   "metadata": {},
   "source": [
    "_- El promedio anual de accesos es de  53 108 110 entre el 2013 y el 2022_\n",
    "\n",
    "_- El tipo de crecimiento o tendencia podría ser exponencial_\n",
    "\n",
    "_- En el 2013 hubo 13 135 240, pero en el 2022 hubo 174 057 800, hay un claro crecimiento excesivo_"
   ]
  },
  {
   "cell_type": "markdown",
   "metadata": {},
   "source": [
    "### 3.2 Visualización de datos"
   ]
  },
  {
   "cell_type": "markdown",
   "metadata": {},
   "source": [
    "Crecimiento en porcentaje de los ingresos por internet móvil"
   ]
  },
  {
   "cell_type": "code",
   "execution_count": 90,
   "metadata": {},
   "outputs": [
    {
     "data": {
      "image/png": "[encoded data removed]",
      "text/plain": [
       "<Figure size 640x480 with 1 Axes>"
      ]
     },
     "metadata": {},
     "output_type": "display_data"
    }
   ],
   "source": [
    "plt.rcParams['axes.facecolor'] = '#F1F0F5'\n",
    "plt.bar(ingre['Año'],ingre['Ingresos (miles de $)'], alpha=0.3)\n",
    "plt.ylabel('Porcentajes')\n",
    "plt.title('Ingresos (miles de pesos)')\n",
    "plt.show()"
   ]
  },
  {
   "cell_type": "markdown",
   "metadata": {},
   "source": [
    "_- El crecimiento del accesos del servicio de internet movil, ha tenido un rendimiento mayor al de la telefonía fija_\n",
    "\n",
    "_- La tendencia es exponencial, pero este crecimiento se soporta de otras variables, como el ingreso familiar percápita, el crecimiento de la economía del pais, entre otras cosas. Se tiene que evaluar más_"
   ]
  },
  {
   "cell_type": "code",
   "execution_count": 92,
   "metadata": {},
   "outputs": [
    {
     "data": {
      "image/png": "[encoded data removed]",
      "text/plain": [
       "<Figure size 640x480 with 1 Axes>"
      ]
     },
     "metadata": {},
     "output_type": "display_data"
    }
   ],
   "source": [
    "plt.rcParams['axes.facecolor'] = '#F1F0F5'\n",
    "plt.bar(acces['Año'],acces['Total de accesos operativos'], alpha=0.3)\n",
    "plt.ylabel('Porcentajes')\n",
    "plt.title('Total de accesos operativos')\n",
    "plt.show()"
   ]
  },
  {
   "cell_type": "markdown",
   "metadata": {},
   "source": [
    "_- El comportamiento del total de accesos de internet móvil es similar al del acceso a internet movil prepago, se debe a que es por la cantidad de usuarios, resulta siginificativamente mayor a los usuariuos que consumen pospago_"
   ]
  },
  {
   "cell_type": "code",
   "execution_count": 93,
   "metadata": {},
   "outputs": [
    {
     "data": {
      "image/png": "[encoded data removed]",
      "text/plain": [
       "<Figure size 640x480 with 1 Axes>"
      ]
     },
     "metadata": {},
     "output_type": "display_data"
    }
   ],
   "source": [
    "plt.rcParams['axes.facecolor'] = '#F1F0F5'\n",
    "plt.bar(acces['Año'],acces['Total de accesos prepago'], alpha=0.3)\n",
    "plt.ylabel('Porcentajes')\n",
    "plt.title('Total de accesos prepago')\n",
    "plt.show()"
   ]
  },
  {
   "cell_type": "markdown",
   "metadata": {},
   "source": [
    "_- El acceso a prepago es más popular que el accesos a internet prepago, su comportamiento es interesante, desde el 2013 esta decreciendo ligeramente, esto podría tener una explicación más clara considerando otras variables_"
   ]
  },
  {
   "cell_type": "code",
   "execution_count": 95,
   "metadata": {},
   "outputs": [
    {
     "data": {
      "image/png": "[encoded data removed]",
      "text/plain": [
       "<Figure size 640x480 with 1 Axes>"
      ]
     },
     "metadata": {},
     "output_type": "display_data"
    }
   ],
   "source": [
    "plt.rcParams['axes.facecolor'] = '#F1F0F5'\n",
    "plt.bar(acces['Año'],acces['Total de accesos pospago'], alpha=0.3)\n",
    "plt.ylabel('Porcentajes')\n",
    "plt.title('Total de accesos pospago')\n",
    "plt.show()"
   ]
  },
  {
   "cell_type": "markdown",
   "metadata": {},
   "source": [
    "_- El acceso a pospago decreció desde el 2013, pero tiene un ligero realce en el 2021 y 2022_\n"
   ]
  },
  {
   "cell_type": "markdown",
   "metadata": {},
   "source": [
    "Incremento Anual"
   ]
  },
  {
   "cell_type": "code",
   "execution_count": 96,
   "metadata": {},
   "outputs": [
    {
     "data": {
      "text/html": [
       "<div>\n",
       "<style scoped>\n",
       "    .dataframe tbody tr th:only-of-type {\n",
       "        vertical-align: middle;\n",
       "    }\n",
       "\n",
       "    .dataframe tbody tr th {\n",
       "        vertical-align: top;\n",
       "    }\n",
       "\n",
       "    .dataframe thead th {\n",
       "        text-align: right;\n",
       "    }\n",
       "</style>\n",
       "<table border=\"1\" class=\"dataframe\">\n",
       "  <thead>\n",
       "    <tr style=\"text-align: right;\">\n",
       "      <th></th>\n",
       "      <th>Crecimiento anual %</th>\n",
       "    </tr>\n",
       "    <tr>\n",
       "      <th>Año</th>\n",
       "      <th></th>\n",
       "    </tr>\n",
       "  </thead>\n",
       "  <tbody>\n",
       "    <tr>\n",
       "      <th>2013</th>\n",
       "      <td>NaN</td>\n",
       "    </tr>\n",
       "    <tr>\n",
       "      <th>2014</th>\n",
       "      <td>-3.02</td>\n",
       "    </tr>\n",
       "    <tr>\n",
       "      <th>2015</th>\n",
       "      <td>-4.33</td>\n",
       "    </tr>\n",
       "    <tr>\n",
       "      <th>2016</th>\n",
       "      <td>2.10</td>\n",
       "    </tr>\n",
       "    <tr>\n",
       "      <th>2017</th>\n",
       "      <td>2.50</td>\n",
       "    </tr>\n",
       "    <tr>\n",
       "      <th>2018</th>\n",
       "      <td>-3.89</td>\n",
       "    </tr>\n",
       "    <tr>\n",
       "      <th>2019</th>\n",
       "      <td>-3.24</td>\n",
       "    </tr>\n",
       "    <tr>\n",
       "      <th>2020</th>\n",
       "      <td>-5.11</td>\n",
       "    </tr>\n",
       "    <tr>\n",
       "      <th>2021</th>\n",
       "      <td>1.51</td>\n",
       "    </tr>\n",
       "    <tr>\n",
       "      <th>2022</th>\n",
       "      <td>5.22</td>\n",
       "    </tr>\n",
       "  </tbody>\n",
       "</table>\n",
       "</div>"
      ],
      "text/plain": [
       "      Crecimiento anual %\n",
       "Año                      \n",
       "2013                  NaN\n",
       "2014                -3.02\n",
       "2015                -4.33\n",
       "2016                 2.10\n",
       "2017                 2.50\n",
       "2018                -3.89\n",
       "2019                -3.24\n",
       "2020                -5.11\n",
       "2021                 1.51\n",
       "2022                 5.22"
      ]
     },
     "execution_count": 96,
     "metadata": {},
     "output_type": "execute_result"
    }
   ],
   "source": [
    "df_grouped = acces.groupby('Año').agg({'Total de accesos operativos': 'first'}).pct_change() * 100\n",
    "df_grouped = df_grouped.round(2)\n",
    "df_grouped = df_grouped.rename(columns={'Total de accesos operativos': 'Crecimiento anual %'})\n",
    "df_grouped"
   ]
  },
  {
   "cell_type": "markdown",
   "metadata": {},
   "source": [
    "_-Hipótesis: El crecimiento y de4crecimiento tienen un patron de onda, A ese ritmo el numero de accesos a internet móvil podria decrecer. No necesariamente significa algo negativo_"
   ]
  },
  {
   "cell_type": "code",
   "execution_count": 97,
   "metadata": {},
   "outputs": [
    {
     "data": {
      "text/html": [
       "<div>\n",
       "<style scoped>\n",
       "    .dataframe tbody tr th:only-of-type {\n",
       "        vertical-align: middle;\n",
       "    }\n",
       "\n",
       "    .dataframe tbody tr th {\n",
       "        vertical-align: top;\n",
       "    }\n",
       "\n",
       "    .dataframe thead th {\n",
       "        text-align: right;\n",
       "    }\n",
       "</style>\n",
       "<table border=\"1\" class=\"dataframe\">\n",
       "  <thead>\n",
       "    <tr style=\"text-align: right;\">\n",
       "      <th></th>\n",
       "      <th>Crecimiento anual de ingreso %</th>\n",
       "    </tr>\n",
       "    <tr>\n",
       "      <th>Año</th>\n",
       "      <th></th>\n",
       "    </tr>\n",
       "  </thead>\n",
       "  <tbody>\n",
       "    <tr>\n",
       "      <th>2013</th>\n",
       "      <td>NaN</td>\n",
       "    </tr>\n",
       "    <tr>\n",
       "      <th>2014</th>\n",
       "      <td>21.34</td>\n",
       "    </tr>\n",
       "    <tr>\n",
       "      <th>2015</th>\n",
       "      <td>21.33</td>\n",
       "    </tr>\n",
       "    <tr>\n",
       "      <th>2016</th>\n",
       "      <td>28.06</td>\n",
       "    </tr>\n",
       "    <tr>\n",
       "      <th>2017</th>\n",
       "      <td>26.02</td>\n",
       "    </tr>\n",
       "    <tr>\n",
       "      <th>2018</th>\n",
       "      <td>24.13</td>\n",
       "    </tr>\n",
       "    <tr>\n",
       "      <th>2019</th>\n",
       "      <td>29.72</td>\n",
       "    </tr>\n",
       "    <tr>\n",
       "      <th>2020</th>\n",
       "      <td>43.45</td>\n",
       "    </tr>\n",
       "    <tr>\n",
       "      <th>2021</th>\n",
       "      <td>29.18</td>\n",
       "    </tr>\n",
       "    <tr>\n",
       "      <th>2022</th>\n",
       "      <td>40.10</td>\n",
       "    </tr>\n",
       "  </tbody>\n",
       "</table>\n",
       "</div>"
      ],
      "text/plain": [
       "      Crecimiento anual de ingreso %\n",
       "Año                                 \n",
       "2013                             NaN\n",
       "2014                           21.34\n",
       "2015                           21.33\n",
       "2016                           28.06\n",
       "2017                           26.02\n",
       "2018                           24.13\n",
       "2019                           29.72\n",
       "2020                           43.45\n",
       "2021                           29.18\n",
       "2022                           40.10"
      ]
     },
     "execution_count": 97,
     "metadata": {},
     "output_type": "execute_result"
    }
   ],
   "source": [
    "df_grouped = ingre.groupby('Año').agg({'Ingresos (miles de $)': 'first'}).pct_change() * 100\n",
    "df_grouped = df_grouped.round(2)\n",
    "df_grouped = df_grouped.rename(columns={'Ingresos (miles de $)': 'Crecimiento anual de ingreso %'})\n",
    "df_grouped"
   ]
  },
  {
   "cell_type": "code",
   "execution_count": 101,
   "metadata": {},
   "outputs": [
    {
     "data": {
      "text/plain": [
       "Crecimiento anual de ingreso %    29.258889\n",
       "dtype: float64"
      ]
     },
     "execution_count": 101,
     "metadata": {},
     "output_type": "execute_result"
    }
   ],
   "source": [
    "df_grouped.mean()"
   ]
  },
  {
   "cell_type": "markdown",
   "metadata": {},
   "source": [
    "_- Ese sería un indicador de medir la tasa de crecimiento de ingresos por este servicio_"
   ]
  },
  {
   "cell_type": "markdown",
   "metadata": {},
   "source": [
    "_- La tasa de crecimiento es altísima anualmente, el crecmiento en este rubro es prometedor, en promedio hay un crecimiento de 29% anual_"
   ]
  },
  {
   "cell_type": "markdown",
   "metadata": {},
   "source": [
    "### 3.3 Conclusiones"
   ]
  },
  {
   "cell_type": "markdown",
   "metadata": {},
   "source": [
    "La cantidad de accesos a internet tanto para pospago y para prepago a ido deisminuyendo desde el 2013 hasta el 2022, pero la cantidad de ingresos a ido incrementando significativamente, lo cual indica que hay más ingresos de este servicio por cada acceso a internet, es decir, se percibe más por cada persona que tiene internet."
   ]
  },
  {
   "cell_type": "markdown",
   "metadata": {},
   "source": [
    "---\n",
    "### 4. Análisis de Datos de Internet Fijo"
   ]
  },
  {
   "cell_type": "markdown",
   "metadata": {},
   "source": [
    "### 4.1 Estadística descriptiva"
   ]
  },
  {
   "cell_type": "code",
   "execution_count": 104,
   "metadata": {},
   "outputs": [],
   "source": [
    "recl = pd.read_csv('Data_set/Data_internet_reclamos/reclamo_motivo_empresas.csv')"
   ]
  },
  {
   "cell_type": "code",
   "execution_count": 114,
   "metadata": {},
   "outputs": [
    {
     "data": {
      "text/html": [
       "<div>\n",
       "<style scoped>\n",
       "    .dataframe tbody tr th:only-of-type {\n",
       "        vertical-align: middle;\n",
       "    }\n",
       "\n",
       "    .dataframe tbody tr th {\n",
       "        vertical-align: top;\n",
       "    }\n",
       "\n",
       "    .dataframe thead th {\n",
       "        text-align: right;\n",
       "    }\n",
       "</style>\n",
       "<table border=\"1\" class=\"dataframe\">\n",
       "  <thead>\n",
       "    <tr style=\"text-align: right;\">\n",
       "      <th></th>\n",
       "      <th>Año</th>\n",
       "      <th>Mes</th>\n",
       "      <th>Motivo de Reclamo</th>\n",
       "      <th>Operador</th>\n",
       "      <th>Cantidad</th>\n",
       "    </tr>\n",
       "  </thead>\n",
       "  <tbody>\n",
       "    <tr>\n",
       "      <th>0</th>\n",
       "      <td>2023</td>\n",
       "      <td>1</td>\n",
       "      <td>Facturación</td>\n",
       "      <td>AMX Argentina S.A. (Claro)</td>\n",
       "      <td>16</td>\n",
       "    </tr>\n",
       "    <tr>\n",
       "      <th>20</th>\n",
       "      <td>2023</td>\n",
       "      <td>1</td>\n",
       "      <td>Otros</td>\n",
       "      <td>Movistar - Telefonica Moviles Argentina S.A.</td>\n",
       "      <td>24</td>\n",
       "    </tr>\n",
       "    <tr>\n",
       "      <th>21</th>\n",
       "      <td>2023</td>\n",
       "      <td>1</td>\n",
       "      <td>Otros</td>\n",
       "      <td>Otros</td>\n",
       "      <td>7</td>\n",
       "    </tr>\n",
       "    <tr>\n",
       "      <th>22</th>\n",
       "      <td>2023</td>\n",
       "      <td>1</td>\n",
       "      <td>Otros</td>\n",
       "      <td>TELECENTRO S.A.</td>\n",
       "      <td>6</td>\n",
       "    </tr>\n",
       "    <tr>\n",
       "      <th>23</th>\n",
       "      <td>2023</td>\n",
       "      <td>1</td>\n",
       "      <td>Otros</td>\n",
       "      <td>Telecom Argentina S.A.</td>\n",
       "      <td>52</td>\n",
       "    </tr>\n",
       "    <tr>\n",
       "      <th>...</th>\n",
       "      <td>...</td>\n",
       "      <td>...</td>\n",
       "      <td>...</td>\n",
       "      <td>...</td>\n",
       "      <td>...</td>\n",
       "    </tr>\n",
       "    <tr>\n",
       "      <th>159</th>\n",
       "      <td>2023</td>\n",
       "      <td>5</td>\n",
       "      <td>Gestiones Administrativas</td>\n",
       "      <td>Fibertel S.A. (TCI)</td>\n",
       "      <td>5</td>\n",
       "    </tr>\n",
       "    <tr>\n",
       "      <th>160</th>\n",
       "      <td>2023</td>\n",
       "      <td>5</td>\n",
       "      <td>Gestiones Administrativas</td>\n",
       "      <td>Movistar - Telefonica Moviles Argentina S.A.</td>\n",
       "      <td>41</td>\n",
       "    </tr>\n",
       "    <tr>\n",
       "      <th>161</th>\n",
       "      <td>2023</td>\n",
       "      <td>5</td>\n",
       "      <td>Gestiones Administrativas</td>\n",
       "      <td>NSS S.A.</td>\n",
       "      <td>2</td>\n",
       "    </tr>\n",
       "    <tr>\n",
       "      <th>154</th>\n",
       "      <td>2023</td>\n",
       "      <td>5</td>\n",
       "      <td>Facturación</td>\n",
       "      <td>TELECENTRO S.A.</td>\n",
       "      <td>31</td>\n",
       "    </tr>\n",
       "    <tr>\n",
       "      <th>183</th>\n",
       "      <td>2023</td>\n",
       "      <td>5</td>\n",
       "      <td>Problemas Técnicos</td>\n",
       "      <td>Telefonica de Argentina S.A.</td>\n",
       "      <td>159</td>\n",
       "    </tr>\n",
       "  </tbody>\n",
       "</table>\n",
       "<p>184 rows × 5 columns</p>\n",
       "</div>"
      ],
      "text/plain": [
       "      Año  Mes          Motivo de Reclamo  \\\n",
       "0    2023    1                Facturación   \n",
       "20   2023    1                      Otros   \n",
       "21   2023    1                      Otros   \n",
       "22   2023    1                      Otros   \n",
       "23   2023    1                      Otros   \n",
       "..    ...  ...                        ...   \n",
       "159  2023    5  Gestiones Administrativas   \n",
       "160  2023    5  Gestiones Administrativas   \n",
       "161  2023    5  Gestiones Administrativas   \n",
       "154  2023    5                Facturación   \n",
       "183  2023    5         Problemas Técnicos   \n",
       "\n",
       "                                         Operador  Cantidad  \n",
       "0                      AMX Argentina S.A. (Claro)        16  \n",
       "20   Movistar - Telefonica Moviles Argentina S.A.        24  \n",
       "21                                          Otros         7  \n",
       "22                                TELECENTRO S.A.         6  \n",
       "23                         Telecom Argentina S.A.        52  \n",
       "..                                            ...       ...  \n",
       "159                           Fibertel S.A. (TCI)         5  \n",
       "160  Movistar - Telefonica Moviles Argentina S.A.        41  \n",
       "161                                      NSS S.A.         2  \n",
       "154                               TELECENTRO S.A.        31  \n",
       "183                  Telefonica de Argentina S.A.       159  \n",
       "\n",
       "[184 rows x 5 columns]"
      ]
     },
     "execution_count": 114,
     "metadata": {},
     "output_type": "execute_result"
    }
   ],
   "source": [
    "recl"
   ]
  },
  {
   "cell_type": "code",
   "execution_count": 106,
   "metadata": {},
   "outputs": [
    {
     "data": {
      "text/html": [
       "<div>\n",
       "<style scoped>\n",
       "    .dataframe tbody tr th:only-of-type {\n",
       "        vertical-align: middle;\n",
       "    }\n",
       "\n",
       "    .dataframe tbody tr th {\n",
       "        vertical-align: top;\n",
       "    }\n",
       "\n",
       "    .dataframe thead th {\n",
       "        text-align: right;\n",
       "    }\n",
       "</style>\n",
       "<table border=\"1\" class=\"dataframe\">\n",
       "  <thead>\n",
       "    <tr style=\"text-align: right;\">\n",
       "      <th></th>\n",
       "      <th>Año</th>\n",
       "      <th>Mes</th>\n",
       "      <th>Cantidad</th>\n",
       "    </tr>\n",
       "  </thead>\n",
       "  <tbody>\n",
       "    <tr>\n",
       "      <th>count</th>\n",
       "      <td>184.0</td>\n",
       "      <td>184.000000</td>\n",
       "      <td>184.000000</td>\n",
       "    </tr>\n",
       "    <tr>\n",
       "      <th>mean</th>\n",
       "      <td>2023.0</td>\n",
       "      <td>3.010870</td>\n",
       "      <td>55.576087</td>\n",
       "    </tr>\n",
       "    <tr>\n",
       "      <th>std</th>\n",
       "      <td>0.0</td>\n",
       "      <td>1.414172</td>\n",
       "      <td>121.605537</td>\n",
       "    </tr>\n",
       "    <tr>\n",
       "      <th>min</th>\n",
       "      <td>2023.0</td>\n",
       "      <td>1.000000</td>\n",
       "      <td>1.000000</td>\n",
       "    </tr>\n",
       "    <tr>\n",
       "      <th>25%</th>\n",
       "      <td>2023.0</td>\n",
       "      <td>2.000000</td>\n",
       "      <td>4.000000</td>\n",
       "    </tr>\n",
       "    <tr>\n",
       "      <th>50%</th>\n",
       "      <td>2023.0</td>\n",
       "      <td>3.000000</td>\n",
       "      <td>18.000000</td>\n",
       "    </tr>\n",
       "    <tr>\n",
       "      <th>75%</th>\n",
       "      <td>2023.0</td>\n",
       "      <td>4.000000</td>\n",
       "      <td>45.250000</td>\n",
       "    </tr>\n",
       "    <tr>\n",
       "      <th>max</th>\n",
       "      <td>2023.0</td>\n",
       "      <td>5.000000</td>\n",
       "      <td>893.000000</td>\n",
       "    </tr>\n",
       "  </tbody>\n",
       "</table>\n",
       "</div>"
      ],
      "text/plain": [
       "          Año         Mes    Cantidad\n",
       "count   184.0  184.000000  184.000000\n",
       "mean   2023.0    3.010870   55.576087\n",
       "std       0.0    1.414172  121.605537\n",
       "min    2023.0    1.000000    1.000000\n",
       "25%    2023.0    2.000000    4.000000\n",
       "50%    2023.0    3.000000   18.000000\n",
       "75%    2023.0    4.000000   45.250000\n",
       "max    2023.0    5.000000  893.000000"
      ]
     },
     "execution_count": 106,
     "metadata": {},
     "output_type": "execute_result"
    }
   ],
   "source": [
    "# Medidas de Tendencia central de variables numéricas\n",
    "\n",
    "recl.describe(include=[np.number])"
   ]
  },
  {
   "cell_type": "markdown",
   "metadata": {},
   "source": [
    "_- Solo set tiene datos de los reclamos en el 2023 y solo 5 primeros meses_\n",
    "\n",
    "_- La cantidad de reclamos es de 184 000 0000_\n",
    "\n",
    "_- La varianza es alta, podría indicar que hay más reclamos por temporadas dentro del mismo año_\n",
    "\n",
    "_- Los datos podrían estar dispersos, la media es de 55 576 087 se aleja mucho del minimo que es 1 000 000 y del máximo que es 893 000 000_"
   ]
  },
  {
   "cell_type": "markdown",
   "metadata": {},
   "source": [
    "### 4.2 Visualización de datos"
   ]
  },
  {
   "cell_type": "code",
   "execution_count": 115,
   "metadata": {},
   "outputs": [
    {
     "data": {
      "image/png": "[encoded data removed]",
      "text/plain": [
       "<Figure size 640x480 with 1 Axes>"
      ]
     },
     "metadata": {},
     "output_type": "display_data"
    }
   ],
   "source": [
    "recl = recl.sort_values(by='Mes')\n",
    "\n",
    "# Crear el gráfico de líneas\n",
    "plt.plot(recl['Mes'], recl['Cantidad'], marker='o', linestyle='-')\n",
    "\n",
    "# Personalizar el gráfico\n",
    "plt.xlabel('Mes')\n",
    "plt.ylabel('Cantidad')\n",
    "plt.title('Gráfico de Líneas: Cantidad de Reclamos por Mes')\n",
    "plt.grid(True)\n",
    "\n",
    "# Mostrar el gráfico\n",
    "plt.show()"
   ]
  },
  {
   "cell_type": "markdown",
   "metadata": {},
   "source": [
    "_- La cantidad no arroja mucha información, en el mes 3 han ocurrido demasiados reclamos, esto puede deberse a situaciones aisladas, depende de otras variables_"
   ]
  },
  {
   "cell_type": "code",
   "execution_count": 117,
   "metadata": {},
   "outputs": [
    {
     "data": {
      "image/png": "[encoded data removed]",
      "text/plain": [
       "<Figure size 800x800 with 1 Axes>"
      ]
     },
     "metadata": {},
     "output_type": "display_data"
    }
   ],
   "source": [
    "# Agrupar los datos por el operador y calcular la suma de denuncias por operador\n",
    "operador_denuncias = recl.groupby('Operador')['Cantidad'].sum()\n",
    "\n",
    "# Obtener los nombres de los operadores y la cantidad de denuncias\n",
    "operadores = operador_denuncias.index\n",
    "denuncias = operador_denuncias.values\n",
    "\n",
    "# Crear el gráfico de pastel\n",
    "plt.figure(figsize=(8, 8))  # Tamaño del gráfico\n",
    "plt.pie(denuncias, labels=operadores, autopct='%1.1f%%', startangle=140, shadow=True)\n",
    "\n",
    "# Personalizar el gráfico\n",
    "plt.axis('equal')  # Hace que el gráfico de pastel sea circular\n",
    "plt.title('Cantidad de Denuncias por Operador de Internet')\n",
    "\n",
    "# Mostrar el gráfico\n",
    "plt.show()"
   ]
  },
  {
   "cell_type": "markdown",
   "metadata": {},
   "source": [
    "_- Telecom acumula mayor cantidad de reclamo con un 55 %, esto puede estar correlacionado a la cantidad de usuarios que tiene la empresa_\n",
    "\n",
    "_- Sguidamente tienen mayor cantidad de reclamos Telefónica con 18.8% y Telecentro con un 8.8%_\n"
   ]
  },
  {
   "cell_type": "markdown",
   "metadata": {},
   "source": [
    "Naturaleza del reclamo"
   ]
  },
  {
   "cell_type": "code",
   "execution_count": 121,
   "metadata": {},
   "outputs": [
    {
     "data": {
      "image/png": "[encoded data removed]",
      "text/plain": [
       "<Figure size 800x800 with 1 Axes>"
      ]
     },
     "metadata": {},
     "output_type": "display_data"
    }
   ],
   "source": [
    "# Agrupar los datos por el operador y calcular la suma de denuncias por operador\n",
    "operador_denuncias = recl.groupby('Motivo de Reclamo')['Cantidad'].sum()\n",
    "\n",
    "# Obtener los nombres de los operadores y la cantidad de denuncias\n",
    "operadores = operador_denuncias.index\n",
    "denuncias = operador_denuncias.values\n",
    "\n",
    "# Crear el gráfico de pastel\n",
    "plt.figure(figsize=(8, 8))  # Tamaño del gráfico\n",
    "plt.pie(denuncias, labels=operadores, autopct='%1.1f%%', startangle=140, shadow=True)\n",
    "\n",
    "# Personalizar el gráfico\n",
    "plt.axis('equal')  # Hace que el gráfico de pastel sea circular\n",
    "plt.title('Cantidad de Denuncias por tipo de reclamo')\n",
    "\n",
    "# Mostrar el gráfico\n",
    "plt.show()"
   ]
  },
  {
   "cell_type": "markdown",
   "metadata": {},
   "source": [
    "_- La mayoría de reclamos tiene un factor técnico con un 52 %. Una variable posiblemente costosa de mitigar_\n",
    "\n",
    "_- Seguidamente de reclamos de índole administrativo con un 24%, lo cual es una variable que posiblemente sea más sencilla de automatizar. Y seguidamente de reclamos por facturación con un 17.8%, esto puede deberse a errores de sistema, resulta ser una variable más controlable_"
   ]
  },
  {
   "cell_type": "markdown",
   "metadata": {},
   "source": [
    "### 4.3 Conclusiones"
   ]
  },
  {
   "cell_type": "markdown",
   "metadata": {},
   "source": [
    "La Calidad del servicio está relacionada a los reclamos. En ese sentido, el análisis de Cantidad de reclamos por tipo de reclamo nos arroja que el 52 % los reclamos estan asociados a problemas técnico, La falla repentina de los equipos o instalaciones es una variable que no está a nuestro control. Sin embargo, las fallas de tipo administrativa y de facturación si es una variable más controlable.\n"
   ]
  },
  {
   "cell_type": "markdown",
   "metadata": {},
   "source": [
    "Hay una gran oportunidad en mitigar por medio de kpi´s las fallas de tipo Facturación y de tipo administrativa que juntos acumulan un porcentaje importante del 42%"
   ]
  }
 ],
 "metadata": {
  "kernelspec": {
   "display_name": "Python 3",
   "language": "python",
   "name": "python3"
  },
  "language_info": {
   "codemirror_mode": {
    "name": "ipython",
    "version": 3
   },
   "file_extension": ".py",
   "mimetype": "text/x-python",
   "name": "python",
   "nbconvert_exporter": "python",
   "pygments_lexer": "ipython3",
   "version": "3.11.3"
  },
  "orig_nbformat": 4
 },
 "nbformat": 4,
 "nbformat_minor": 2
}
